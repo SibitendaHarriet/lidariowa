{
 "cells": [
  {
   "cell_type": "code",
   "execution_count": 2,
   "metadata": {},
   "outputs": [
    {
     "name": "stdout",
     "output_type": "stream",
     "text": [
      "Requirement already satisfied: geopandas in c:\\users\\dell\\anaconda3\\envs\\iowa\\lib\\site-packages (0.9.0)\n",
      "Requirement already satisfied: fiona>=1.8 in c:\\users\\dell\\anaconda3\\envs\\iowa\\lib\\site-packages (from geopandas) (1.8.20)\n",
      "Requirement already satisfied: shapely>=1.6 in c:\\users\\dell\\anaconda3\\envs\\iowa\\lib\\site-packages (from geopandas) (1.7.1)\n",
      "Requirement already satisfied: pandas>=0.24.0 in c:\\users\\dell\\anaconda3\\envs\\iowa\\lib\\site-packages (from geopandas) (1.3.2)\n",
      "Requirement already satisfied: pyproj>=2.2.0 in c:\\users\\dell\\anaconda3\\envs\\iowa\\lib\\site-packages (from geopandas) (3.1.0)\n",
      "Requirement already satisfied: attrs>=17 in c:\\users\\dell\\anaconda3\\envs\\iowa\\lib\\site-packages (from fiona>=1.8->geopandas) (21.2.0)\n",
      "Requirement already satisfied: certifi in c:\\users\\dell\\anaconda3\\envs\\iowa\\lib\\site-packages (from fiona>=1.8->geopandas) (2021.5.30)\n",
      "Requirement already satisfied: click>=4.0 in c:\\users\\dell\\anaconda3\\envs\\iowa\\lib\\site-packages (from fiona>=1.8->geopandas) (8.0.1)\n",
      "Requirement already satisfied: cligj>=0.5 in c:\\users\\dell\\anaconda3\\envs\\iowa\\lib\\site-packages (from fiona>=1.8->geopandas) (0.7.2)\n",
      "Requirement already satisfied: click-plugins>=1.0 in c:\\users\\dell\\anaconda3\\envs\\iowa\\lib\\site-packages (from fiona>=1.8->geopandas) (1.1.1)\n",
      "Requirement already satisfied: six>=1.7 in c:\\users\\dell\\anaconda3\\envs\\iowa\\lib\\site-packages (from fiona>=1.8->geopandas) (1.16.0)\n",
      "Requirement already satisfied: munch in c:\\users\\dell\\anaconda3\\envs\\iowa\\lib\\site-packages (from fiona>=1.8->geopandas) (2.5.0)\n",
      "Requirement already satisfied: setuptools in c:\\users\\dell\\anaconda3\\envs\\iowa\\lib\\site-packages (from fiona>=1.8->geopandas) (57.4.0)\n",
      "Requirement already satisfied: colorama in c:\\users\\dell\\anaconda3\\envs\\iowa\\lib\\site-packages (from click>=4.0->fiona>=1.8->geopandas) (0.4.4)\n",
      "Requirement already satisfied: python-dateutil>=2.7.3 in c:\\users\\dell\\anaconda3\\envs\\iowa\\lib\\site-packages (from pandas>=0.24.0->geopandas) (2.8.2)\n",
      "Requirement already satisfied: pytz>=2017.3 in c:\\users\\dell\\anaconda3\\envs\\iowa\\lib\\site-packages (from pandas>=0.24.0->geopandas) (2021.1)\n",
      "Requirement already satisfied: numpy>=1.17.3 in c:\\users\\dell\\anaconda3\\envs\\iowa\\lib\\site-packages (from pandas>=0.24.0->geopandas) (1.21.2)\n"
     ]
    }
   ],
   "source": [
    "!pip install geopandas"
   ]
  },
  {
   "cell_type": "code",
   "execution_count": 3,
   "metadata": {},
   "outputs": [
    {
     "name": "stdout",
     "output_type": "stream",
     "text": [
      "Requirement already satisfied: imageio in c:\\users\\dell\\anaconda3\\envs\\iowa\\lib\\site-packages (2.9.0)\n",
      "Requirement already satisfied: numpy in c:\\users\\dell\\anaconda3\\envs\\iowa\\lib\\site-packages (from imageio) (1.21.2)\n",
      "Requirement already satisfied: pillow in c:\\users\\dell\\anaconda3\\envs\\iowa\\lib\\site-packages (from imageio) (8.3.1)\n"
     ]
    }
   ],
   "source": [
    "!pip install imageio"
   ]
  },
  {
   "cell_type": "code",
   "execution_count": 4,
   "metadata": {},
   "outputs": [
    {
     "name": "stdout",
     "output_type": "stream",
     "text": [
      "Requirement already satisfied: laspy in c:\\users\\dell\\anaconda3\\envs\\iowa\\lib\\site-packages (2.0.2)\n",
      "Requirement already satisfied: numpy in c:\\users\\dell\\anaconda3\\envs\\iowa\\lib\\site-packages (from laspy) (1.21.2)\n"
     ]
    }
   ],
   "source": [
    "!pip install laspy"
   ]
  },
  {
   "cell_type": "code",
   "execution_count": 5,
   "metadata": {},
   "outputs": [],
   "source": [
    "#!pip install rasterio"
   ]
  },
  {
   "cell_type": "code",
   "execution_count": 6,
   "metadata": {},
   "outputs": [
    {
     "name": "stdout",
     "output_type": "stream",
     "text": [
      "Requirement already satisfied: folium in c:\\users\\dell\\anaconda3\\envs\\iowa\\lib\\site-packages (0.12.1)\n",
      "Requirement already satisfied: requests in c:\\users\\dell\\anaconda3\\envs\\iowa\\lib\\site-packages (from folium) (2.25.1)\n",
      "Requirement already satisfied: jinja2>=2.9 in c:\\users\\dell\\anaconda3\\envs\\iowa\\lib\\site-packages (from folium) (3.0.1)\n",
      "Requirement already satisfied: numpy in c:\\users\\dell\\anaconda3\\envs\\iowa\\lib\\site-packages (from folium) (1.21.2)\n",
      "Requirement already satisfied: branca>=0.3.0 in c:\\users\\dell\\anaconda3\\envs\\iowa\\lib\\site-packages (from folium) (0.4.2)\n",
      "Requirement already satisfied: MarkupSafe>=2.0 in c:\\users\\dell\\anaconda3\\envs\\iowa\\lib\\site-packages (from jinja2>=2.9->folium) (2.0.1)\n",
      "Requirement already satisfied: idna<3,>=2.5 in c:\\users\\dell\\anaconda3\\envs\\iowa\\lib\\site-packages (from requests->folium) (2.10)\n",
      "Requirement already satisfied: chardet<5,>=3.0.2 in c:\\users\\dell\\anaconda3\\envs\\iowa\\lib\\site-packages (from requests->folium) (4.0.0)\n",
      "Requirement already satisfied: certifi>=2017.4.17 in c:\\users\\dell\\anaconda3\\envs\\iowa\\lib\\site-packages (from requests->folium) (2021.5.30)\n",
      "Requirement already satisfied: urllib3<1.27,>=1.21.1 in c:\\users\\dell\\anaconda3\\envs\\iowa\\lib\\site-packages (from requests->folium) (1.26.6)\n"
     ]
    }
   ],
   "source": [
    "!pip install folium"
   ]
  },
  {
   "cell_type": "code",
   "execution_count": 7,
   "metadata": {},
   "outputs": [],
   "source": [
    "import json\n",
    "import urllib.request as urllib\n",
    "import pickle"
   ]
  },
  {
   "cell_type": "code",
   "execution_count": 8,
   "metadata": {},
   "outputs": [],
   "source": [
    "pre = 'https://s3-us-west-2.amazonaws.com/usgs-lidar-public/'\n",
    "trail ='/ept.json'"
   ]
  },
  {
   "cell_type": "code",
   "execution_count": null,
   "metadata": {},
   "outputs": [
    {
     "name": "stdout",
     "output_type": "stream",
     "text": [
      "\n",
      "Counter: 100\n",
      "\n",
      "Counter: 200\n",
      "\n",
      "Counter: 300\n",
      "\n",
      "Counter: 400\n",
      "\n",
      "Counter: 500\n",
      "\n",
      "Counter: 600\n"
     ]
    }
   ],
   "source": [
    "gdf_dict ={'name':[], 'year':[], 'path':[], 'geometry':[], 'bounds':[]}\n",
    "counter = 0\n",
    "with open('../data/filename.txt') as f:\n",
    "    for line in f:\n",
    "        line_ = line.strip('/\\n')\n",
    "        gdf_dict['name'].append(line_)\n",
    "        year = line_.split('_')[-1]\n",
    "        gdf_dict['year'].append(year)\n",
    "        path = pre + line_ + trail\n",
    "        gdf_dict['path'].append(path)\n",
    "        try:\n",
    "            j_res = json.load(urllib.urlopen(path))\n",
    "            wkt = j_res['srs']['wkt']\n",
    "            bounds = j_res['bounds']\n",
    "        except:\n",
    "            print('path: {}\\ncounter: {}'.format(path, counter))\n",
    "            wkt = None\n",
    "            bounds = None\n",
    "        counter += 1\n",
    "        gdf_dict['geometry'].append(wkt)\n",
    "        gdf_dict['bounds'].append(bounds)\n",
    "        if counter%100 == 0:\n",
    "            print('\\nCounter: {}'.format(counter))"
   ]
  },
  {
   "cell_type": "code",
   "execution_count": null,
   "metadata": {},
   "outputs": [],
   "source": [
    "out = open('gdf_dict.pkl','wb')"
   ]
  },
  {
   "cell_type": "code",
   "execution_count": null,
   "metadata": {},
   "outputs": [],
   "source": [
    "import pickle\n",
    "pickle.dump(gdf_dict, out)\n",
    "out.close()"
   ]
  },
  {
   "cell_type": "code",
   "execution_count": null,
   "metadata": {},
   "outputs": [],
   "source": [
    "gdf_dict"
   ]
  },
  {
   "cell_type": "code",
   "execution_count": null,
   "metadata": {},
   "outputs": [],
   "source": [
    "import geopandas as gpd\n",
    "import pandas as pd"
   ]
  },
  {
   "cell_type": "code",
   "execution_count": null,
   "metadata": {},
   "outputs": [],
   "source": [
    "df = pd.DataFrame(gdf_dict)\n",
    "df.head()"
   ]
  },
  {
   "cell_type": "code",
   "execution_count": null,
   "metadata": {},
   "outputs": [],
   "source": [
    "df.dropna(axis=0, inplace=True)"
   ]
  },
  {
   "cell_type": "code",
   "execution_count": null,
   "metadata": {},
   "outputs": [],
   "source": [
    "df.reset_index(drop=True, inplace=True)"
   ]
  },
  {
   "cell_type": "code",
   "execution_count": null,
   "metadata": {},
   "outputs": [],
   "source": [
    "from shapely.geometry import Polygon\n",
    "polygons =[]\n",
    "for bound in df['bounds']:\n",
    "  MINX, MINY, MAXX, MAXY = [bound[0],bound[1], bound[3],bound[4]] \n",
    "  polygon = Polygon(((MINX, MINY), (MINX, MAXY), (MAXX, MAXY), (MAXX, MINY), (MINX, MINY)))\n",
    "  polygons.append(polygon)"
   ]
  },
  {
   "cell_type": "code",
   "execution_count": null,
   "metadata": {},
   "outputs": [],
   "source": [
    "df['geometry'] = polygons\n"
   ]
  },
  {
   "cell_type": "code",
   "execution_count": null,
   "metadata": {},
   "outputs": [],
   "source": [
    "df['geometry']"
   ]
  },
  {
   "cell_type": "code",
   "execution_count": null,
   "metadata": {},
   "outputs": [],
   "source": [
    "gdf = gpd.GeoDataFrame(df, geometry='geometry', crs=\"EPSG:3857\")"
   ]
  },
  {
   "cell_type": "code",
   "execution_count": null,
   "metadata": {},
   "outputs": [],
   "source": [
    "\n",
    "gdf.to_crs(epsg=4326, inplace=True)"
   ]
  },
  {
   "cell_type": "code",
   "execution_count": null,
   "metadata": {},
   "outputs": [],
   "source": []
  },
  {
   "cell_type": "code",
   "execution_count": null,
   "metadata": {},
   "outputs": [],
   "source": [
    "geo_data = open('geo_data.pkl','wb')"
   ]
  },
  {
   "cell_type": "code",
   "execution_count": null,
   "metadata": {},
   "outputs": [],
   "source": [
    "pickle.dump(gdf, geo_data)\n",
    "geo_data.close()"
   ]
  },
  {
   "cell_type": "code",
   "execution_count": null,
   "metadata": {},
   "outputs": [],
   "source": [
    "MINXx, MINYy, MAXXx, MAXYy = [-93.756155, 41.918015, -93.747334, 41.921429]\n",
    "poly = Polygon(((MINXx, MINYy), (MINXx, MAXYy), (MAXXx, MAXYy), (MAXXx, MINYy), (MINXx, MINYy)))\n",
    "grid = gpd.GeoDataFrame([poly], columns=[\"geometry\"])\n",
    "grid.set_crs(epsg=4326, inplace=True)"
   ]
  },
  {
   "cell_type": "code",
   "execution_count": null,
   "metadata": {},
   "outputs": [],
   "source": [
    "gdf[gdf['geometry'].contains(grid['geometry'][0])]"
   ]
  },
  {
   "cell_type": "code",
   "execution_count": null,
   "metadata": {},
   "outputs": [],
   "source": [
    "for idx, bound in enumerate(gdf['geometry']):\n",
    "  if bound.contains(poly):\n",
    "    print(idx)"
   ]
  },
  {
   "cell_type": "code",
   "execution_count": null,
   "metadata": {},
   "outputs": [],
   "source": [
    "gdf.columns"
   ]
  },
  {
   "cell_type": "code",
   "execution_count": null,
   "metadata": {},
   "outputs": [],
   "source": [
    "gdf.head(4)"
   ]
  },
  {
   "cell_type": "code",
   "execution_count": null,
   "metadata": {},
   "outputs": [],
   "source": [
    "#gdf.to_csv(\"../data/meta_data.csv\", index=False)"
   ]
  },
  {
   "cell_type": "code",
   "execution_count": null,
   "metadata": {},
   "outputs": [],
   "source": [
    "gdf.shape"
   ]
  },
  {
   "cell_type": "code",
   "execution_count": null,
   "metadata": {},
   "outputs": [],
   "source": [
    "# plot the shapefile\n",
    "plt.rcParams['figure.figsize'] = 10,5\n",
    "gdf.plot(color=\"white\", edgecolor=\"#2e3131\", figsize=(10, 5))\n",
    "plt.title('USA: regions')"
   ]
  },
  {
   "cell_type": "code",
   "execution_count": null,
   "metadata": {},
   "outputs": [],
   "source": [
    "gdf['area'] = gdf.area\n",
    "# Returns a GeoSeries of points for each geometric centroid.\n",
    "gdf['centroid'] = gdf.centroid\n",
    "# Returns a GeoSeries of geometries representing the point or smallest rectangular\n",
    "# polygon (with sides parallel to the coordinate axes) that contains each object.\n",
    "gdf['envelope'] = gdf.envelope"
   ]
  },
  {
   "cell_type": "code",
   "execution_count": null,
   "metadata": {},
   "outputs": [],
   "source": [
    "print(gdf.crs)"
   ]
  },
  {
   "cell_type": "code",
   "execution_count": null,
   "metadata": {},
   "outputs": [],
   "source": [
    "gdf.crs = \"EPSG:4326\""
   ]
  },
  {
   "cell_type": "markdown",
   "metadata": {},
   "source": [
    "geo_data: geopandas data frame holding information of geographic geometry data: data frame containing values to be used for plotting the choropleth maps columns: the names of two columns — first column to be used as the key (‘NAME_2′ containing the names of the district in our case); second column are the values to be mapped (‘area’) key_on: Variable in geo_data to bind the data to. It must start with ‘feature’ fill_color: Can pass a hex code, color name, or one of these color palettes: ‘BuGn’, ‘BuPu’, ‘GnBu’, ‘OrRd’, ‘PuBu’, ‘PuBuGn’, ‘PuRd’, ‘RdPu’, ‘YlGn’, ‘YlGnBu’, ‘YlOrBr’, and ‘YlOrRd’ fill_opacity: Opacity level, range 0–1 line_opacity: Geopath line color (boundary of the polygon) legend_name: Title for data legend"
   ]
  },
  {
   "cell_type": "code",
   "execution_count": null,
   "metadata": {},
   "outputs": [],
   "source": [
    "usa_g = gdf.drop(['centroid', 'envelope'], axis=1)"
   ]
  },
  {
   "cell_type": "code",
   "execution_count": null,
   "metadata": {
    "scrolled": true
   },
   "outputs": [],
   "source": [
    "# Estimate centroids of the country\n",
    "# --------------------\n",
    "cent_x =gdf['geometry'].centroid.x.mean()\n",
    "cent_y =gdf['geometry'].centroid.y.mean()\n",
    "\n",
    "# Create a map object using Folium\n",
    "# --------------------\n",
    "map_usa = folium.Map(location=[cent_y, cent_x], zoom_start=7, tiles='OpenStreetMap')  \n",
    "\n",
    "# Create the choropleth map\n",
    "# --------------------\n",
    "choro = folium.Choropleth(geo_data=usa_g,\n",
    "                         name='choropleth',     \n",
    "                          data=usa_g,\n",
    "                          columns=['name', 'area'], \n",
    "#                           key_on='feature.NAME_2', \n",
    "                          fill_color='YlOrRd',\n",
    "                          fill_opacity=0.6, \n",
    "                          line_opacity=0.8,\n",
    "                          legend_name= \"Area size across USA's subregion\"\n",
    "                          ).add_to(map_usa) \n",
    "\n",
    "# add labels to map\n",
    "choro.geojson.add_child(folium.features.GeoJsonTooltip(fields=['name', 'area'],\n",
    "                                                       aliases=['County', 'Mass'], \n",
    "                                                       labels = False))\n",
    "folium.LayerControl().add_to(map_usa)\n",
    "\n",
    "\n",
    "map_usa"
   ]
  },
  {
   "cell_type": "code",
   "execution_count": null,
   "metadata": {},
   "outputs": [],
   "source": [
    "# Estimate centroids of the country\n",
    "# --------------------\n",
    "cent_x =gdf['geometry'].centroid.x.mean()\n",
    "cent_y =gdf['geometry'].centroid.y.mean()\n",
    "\n",
    "# Create a map object using Folium\n",
    "# --------------------\n",
    "map_usa = folium.Map(location=[cent_y, cent_x], zoom_start=7, tiles='OpenStreetMap')  \n",
    "\n",
    "# Create the choropleth map\n",
    "# --------------------\n",
    "choro = folium.Choropleth(geo_data=usa_g,\n",
    "                         name='choropleth',     \n",
    "                          data=usa_g,\n",
    "                          columns=['name', 'area'], \n",
    "#                           key_on='feature.NAME_2', \n",
    "                          fill_color='YlOrRd',\n",
    "                          fill_opacity=0.6, \n",
    "                          line_opacity=0.8,\n",
    "                          legend_name= \"Area size across USA's subregion\"\n",
    "                          ).add_to(map_usa) \n",
    "\n",
    "# add labels to map\n",
    "choro.geojson.add_child(folium.features.GeoJsonTooltip(fields=['name', 'area'],\n",
    "                                                       aliases=['County', 'Mass'], \n",
    "                                                       labels = True))\n",
    "folium.LayerControl().add_to(map_usa)\n",
    "\n",
    "\n",
    "map_usa"
   ]
  },
  {
   "cell_type": "code",
   "execution_count": null,
   "metadata": {},
   "outputs": [],
   "source": []
  }
 ],
 "metadata": {
  "interpreter": {
   "hash": "cd8ac7ed5329ff1f59a8356dfddf06d159cf18414acbfd7b13d1d5cd1cbb5d7d"
  },
  "kernelspec": {
   "display_name": "Python 3",
   "language": "python",
   "name": "python3"
  },
  "language_info": {
   "codemirror_mode": {
    "name": "ipython",
    "version": 3
   },
   "file_extension": ".py",
   "mimetype": "text/x-python",
   "name": "python",
   "nbconvert_exporter": "python",
   "pygments_lexer": "ipython3",
   "version": "3.9.6"
  }
 },
 "nbformat": 4,
 "nbformat_minor": 2
}
