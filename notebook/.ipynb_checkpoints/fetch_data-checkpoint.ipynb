{
 "cells": [
  {
   "cell_type": "code",
   "execution_count": 1,
   "metadata": {},
   "outputs": [],
   "source": [
    "import json, ast\n",
    "from os import stat\n",
    "import pdal\n",
    "\n"
   ]
  },
  {
   "cell_type": "code",
   "execution_count": 2,
   "metadata": {},
   "outputs": [],
   "source": [
    "def read_json(file_name):\n",
    "  '''\n",
    "  Read json file and return the string format\n",
    "  '''\n",
    "\n",
    "  try:\n",
    "    with open(file_name, 'r') as json_file:\n",
    "      data = json.loads(json_file.read())\n",
    "    return data\n",
    "\n",
    "  except:\n",
    "    return None\n",
    "\n"
   ]
  },
  {
   "cell_type": "code",
   "execution_count": 3,
   "metadata": {},
   "outputs": [],
   "source": [
    "def prepare_pipe(bound, us_state='IA_FullState'):\n",
    "  data = read_json('./iowa.json')\n",
    "  data['pipeline'][0]['bounds'] = bound\n",
    "  data['pipeline'][0]['filename'] = \"https://s3-us-west-2.amazonaws.com/usgs-lidar-public/IA_FullState/ept.json\"\n",
    "  print(\"data\")\n",
    "  return data\n"
   ]
  },
  {
   "cell_type": "code",
   "execution_count": 4,
   "metadata": {},
   "outputs": [],
   "source": [
    "\n",
    "def run_pipe(bound, us_state):\n",
    "  print(\"Run pipe\")\n",
    "  result = prepare_pipe(bound, us_state)\n",
    "  pipeline = pdal.Pipeline(json.dumps(result))\n",
    "  pipe_result  = pipeline.execute()\n",
    "  print(pipe_result)\n",
    "\n"
   ]
  },
  {
   "cell_type": "code",
   "execution_count": 5,
   "metadata": {},
   "outputs": [],
   "source": [
    "bound = str(([-10425171.940, -10423171.940], [5164494.710, 5166494.710]))\n",
    "state = 'IA_FullState'\n",
    "# data = read_json('./iowa.json')\n",
    "# bounds = data['pipeline'][0]['bounds']\n",
    "# result = prepare_pipe(bound)\n",
    "# print(result)\n",
    "run_pipe(bound, state)"
   ]
  },
  {
   "cell_type": "markdown",
   "metadata": {},
   "source": [
    "The output will be a file with the extension tif and the file with the extension laz."
   ]
  }
 ],
 "metadata": {
  "interpreter": {
   "hash": "0e5f848747bdc002ea7c2fe7b8ea040129f67cabffb6da8d0549042c8899946f"
  },
  "kernelspec": {
   "display_name": "Python 3",
   "language": "python",
   "name": "python3"
  },
  "language_info": {
   "codemirror_mode": {
    "name": "ipython",
    "version": 3
   },
   "file_extension": ".py",
   "mimetype": "text/x-python",
   "name": "python",
   "nbconvert_exporter": "python",
   "pygments_lexer": "ipython3",
   "version": "3.9.6"
  }
 },
 "nbformat": 4,
 "nbformat_minor": 2
}
